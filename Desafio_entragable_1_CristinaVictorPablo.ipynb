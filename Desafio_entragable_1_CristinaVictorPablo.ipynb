{
  "nbformat": 4,
  "nbformat_minor": 0,
  "metadata": {
    "colab": {
      "provenance": [],
      "authorship_tag": "ABX9TyMU8ViuQi7WJe7cqblIB75s",
      "include_colab_link": true
    },
    "kernelspec": {
      "name": "python3",
      "display_name": "Python 3"
    },
    "language_info": {
      "name": "python"
    }
  },
  "cells": [
    {
      "cell_type": "markdown",
      "metadata": {
        "id": "view-in-github",
        "colab_type": "text"
      },
      "source": [
        "<a href=\"https://colab.research.google.com/github/VictorPabloCristina/desafios-entregables-Python-CH/blob/main/Desafio_entragable_1_CristinaVictorPablo.ipynb\" target=\"_parent\"><img src=\"https://colab.research.google.com/assets/colab-badge.svg\" alt=\"Open In Colab\"/></a>"
      ]
    },
    {
      "cell_type": "code",
      "source": [
        "nombre=input(\"Ingrese nombre del alumno :\")\n",
        "print(nombre)\n",
        "nota1=float(input(\"ingrese su nota 1: \"))\n",
        "print(\"puntaje:\\n1er Cuatrimestre\"+\"=\" , nota1*0.2)\n",
        "nota2=float(input(\"ingrese su nota 2: \"))\n",
        "print(\"puntaje:\\n2do Cuatrimestre\"+\"=\" , nota2*0.3)\n",
        "nota3=float(input(\"ingrese su nota 3: \"))\n",
        "print(\"puntaje:\\n3er Cuatrimestre\"+\"=\" , nota3*0.5)\n",
        "puntajeanual = 0.2*nota1+0.3*nota2+0.5*nota3\n",
        "print(\"Nota final\"+\"=\", puntajeanual)\n",
        "aprovado = puntajeanual > 3.99\n",
        "print(\"Paso de Año\", \":\", aprovado)\n",
        "\n"
      ],
      "metadata": {
        "id": "K9JhEzCb8it5",
        "outputId": "3f0c9bbd-8507-4de2-98aa-ca5d67c51aa1",
        "colab": {
          "base_uri": "https://localhost:8080/"
        }
      },
      "execution_count": null,
      "outputs": [
        {
          "output_type": "stream",
          "name": "stdout",
          "text": [
            "Ingrese nombre del alumno :Victor Pablo Cristina\n",
            "Victor Pablo Cristina\n",
            "ingrese su nota 1: 7\n",
            "puntaje:\n",
            "1er Cuatrimestre= 1.4000000000000001\n",
            "ingrese su nota 2: 5\n",
            "puntaje:\n",
            "2do Cuatrimestre= 1.5\n",
            "ingrese su nota 3: 9\n",
            "puntaje:\n",
            "3er Cuatrimestre= 4.5\n",
            "Nota final= 7.4\n",
            "Paso de Año : True\n"
          ]
        }
      ]
    },
    {
      "cell_type": "code",
      "source": [
        "()"
      ],
      "metadata": {
        "id": "6rr6-yzi0CQr"
      },
      "execution_count": null,
      "outputs": []
    }
  ]
}