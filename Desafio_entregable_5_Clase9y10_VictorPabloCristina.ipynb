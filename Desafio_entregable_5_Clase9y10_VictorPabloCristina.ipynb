{
  "nbformat": 4,
  "nbformat_minor": 0,
  "metadata": {
    "colab": {
      "provenance": [],
      "authorship_tag": "ABX9TyN3tQfBHPnuwVi9dIeziewX",
      "include_colab_link": true
    },
    "kernelspec": {
      "name": "python3",
      "display_name": "Python 3"
    },
    "language_info": {
      "name": "python"
    }
  },
  "cells": [
    {
      "cell_type": "markdown",
      "metadata": {
        "id": "view-in-github",
        "colab_type": "text"
      },
      "source": [
        "<a href=\"https://colab.research.google.com/github/VictorPabloCristina/desafios-entregables-Python-CH/blob/main/Desafio_entregable_5_Clase9y10_VictorPabloCristina.ipynb\" target=\"_parent\"><img src=\"https://colab.research.google.com/assets/colab-badge.svg\" alt=\"Open In Colab\"/></a>"
      ]
    },
    {
      "cell_type": "code",
      "execution_count": null,
      "metadata": {
        "colab": {
          "base_uri": "https://localhost:8080/"
        },
        "id": "b0fmDRYVitCu",
        "outputId": "85c7df7c-ce63-44fc-ac4e-a1772e84d2dc"
      },
      "outputs": [
        {
          "output_type": "stream",
          "name": "stdout",
          "text": [
            "El area del rectangulo es:  150\n"
          ]
        }
      ],
      "source": [
        " #Ejercicio 1\n",
        " \n",
        "def area_rectangulo (base,altura):\n",
        "  if base and altura:\n",
        "    return base * altura\n",
        "\n",
        "base=15\n",
        "altura=10\n",
        "\n",
        "print(\"El area del rectangulo es: \" , area_rectangulo(base,altura))"
      ]
    },
    {
      "cell_type": "code",
      "source": [
        "#Ejercicio 2\n",
        "\n",
        "def area_circulo (rad):\n",
        "  if rad:\n",
        "    return (rad * rad)*3.14159 \n",
        "rad=5\n",
        "print(\"El Radio del circulo es: \", area_circulo (rad))\n"
      ],
      "metadata": {
        "colab": {
          "base_uri": "https://localhost:8080/"
        },
        "id": "hlbijFoNo4fb",
        "outputId": "bb2d81d5-27a1-4fa6-efbf-db8ef8881256"
      },
      "execution_count": null,
      "outputs": [
        {
          "output_type": "stream",
          "name": "stdout",
          "text": [
            "El Radio del circulo es:  78.53975\n"
          ]
        }
      ]
    },
    {
      "cell_type": "code",
      "source": [
        "#Ejercicio 3\n",
        "\n",
        "def relacion (num1, num2):\n",
        "  if num1 > num2:\n",
        "    return 1\n",
        "  elif num1 < num2:\n",
        "    return -1  \n",
        "  elif num1 == num2:\n",
        "    return 0  \n",
        "\n",
        "num1=5\n",
        "num2=10\n",
        "print(\"La relacion  es: \", relacion (num1,num2))\n",
        "num1=10\n",
        "num2=5\n",
        "print(\"La relacion  es: \", relacion (num1,num2))\n",
        "num1=5\n",
        "num2=5\n",
        "print(\"La relacion  es: \", relacion (num1,num2))\n"
      ],
      "metadata": {
        "colab": {
          "base_uri": "https://localhost:8080/"
        },
        "id": "wJRvSo5ztlwo",
        "outputId": "a6b0dfe6-da4f-4129-e3e4-d289583e31bf"
      },
      "execution_count": null,
      "outputs": [
        {
          "output_type": "stream",
          "name": "stdout",
          "text": [
            "La relacion  es:  -1\n",
            "La relacion  es:  1\n",
            "La relacion  es:  0\n"
          ]
        }
      ]
    },
    {
      "cell_type": "code",
      "source": [
        "#Ejercicio 4\n",
        "\n",
        "intermedio = (num1,num2)\n",
        "inter = intermedio\n",
        "def intermedio (num1,num2):\n",
        "  if num1 and num2:\n",
        "    return (num1 + num2)/len(inter)\n",
        "num1=12\n",
        "num2=15\n",
        "print(\"El valor intermedio de los numeros seleccionados es:\", intermedio(num1,num2))    \n",
        "num1=-12\n",
        "num2=24\n",
        "print(\"El valor intermedio de los numeros seleccionados es:\", intermedio(num1,num2))    "
      ],
      "metadata": {
        "colab": {
          "base_uri": "https://localhost:8080/"
        },
        "id": "1oogegzi6pZP",
        "outputId": "8e9d0365-3f88-4167-8dde-d005681cf26a"
      },
      "execution_count": null,
      "outputs": [
        {
          "output_type": "stream",
          "name": "stdout",
          "text": [
            "El valor intermedio de los numeros seleccionados es: 13.5\n",
            "El valor intermedio de los numeros seleccionados es: 6.0\n"
          ]
        }
      ]
    },
    {
      "cell_type": "code",
      "source": [
        "#Ejercicio 4 escalable\n",
        "\n",
        "def intermedio(*args):\n",
        "    return (sum(args))/len(args)\n",
        "\n",
        "print(\"El promedio de los numeros selleccionados es: \", intermedio(-12,24))    \n",
        "print(\"El promedio de los numeros selleccionados es: \",intermedio(5,4,3)) \n",
        "print(\"El promedio de los numeros selleccionados es: \",intermedio(25,25,85,145,8759))  "
      ],
      "metadata": {
        "colab": {
          "base_uri": "https://localhost:8080/"
        },
        "id": "4rbfBzrmIs-H",
        "outputId": "fe9fe80f-e2e5-4caa-9055-c763924ae41f"
      },
      "execution_count": null,
      "outputs": [
        {
          "output_type": "stream",
          "name": "stdout",
          "text": [
            "El promedio de los numeros selleccionados es:  6.0\n",
            "El promedio de los numeros selleccionados es:  4.0\n",
            "El promedio de los numeros selleccionados es:  1807.8\n"
          ]
        }
      ]
    },
    {
      "cell_type": "code",
      "source": [
        "#Ejercicio 5\n",
        "\n",
        "def recortar(NUM, LI, LS):#NUM=Numero / LI=Limite Inferior / LS=Limite Superior\n",
        "  if NUM < LI:\n",
        "    return LI\n",
        "  elif NUM > LS:\n",
        "    return LS\n",
        "  elif LI<NUM<LS:\n",
        "    return NUM\n",
        "\n",
        "NUM=15\n",
        "LI=0\n",
        "LS=10\n",
        "\n",
        "print(\"EL resultado de la Funcion recortar es: \",recortar(NUM, LI, LS))        "
      ],
      "metadata": {
        "colab": {
          "base_uri": "https://localhost:8080/"
        },
        "id": "UO9z-2ZNIipA",
        "outputId": "bbb439e1-dd4a-4cfa-b82a-3b087f8b411d"
      },
      "execution_count": null,
      "outputs": [
        {
          "output_type": "stream",
          "name": "stdout",
          "text": [
            "EL resultado de la Funcion recortar es:  10\n"
          ]
        }
      ]
    },
    {
      "cell_type": "code",
      "source": [
        "#Ejercicio 6 sin usar Funsiones \n",
        "\n",
        "numeros=list(range(1,21))\n",
        "print(\"Lista de Numeros\",numeros)\n",
        "pares= [numero for numero in numeros if numero % 2 == 0]\n",
        "print(\"Separacion de Numeros pares\",pares)\n",
        "impares=[numero for numero in numeros if numero % 2 == 1]\n",
        "print(\"Separacion de numeros impares\",impares)\n",
        "\n"
      ],
      "metadata": {
        "colab": {
          "base_uri": "https://localhost:8080/"
        },
        "id": "AmLiOyjAMTzn",
        "outputId": "6d328991-5f57-469a-d5b8-fc747dede2dd"
      },
      "execution_count": null,
      "outputs": [
        {
          "output_type": "stream",
          "name": "stdout",
          "text": [
            "Lista de Numeros [1, 2, 3, 4, 5, 6, 7, 8, 9, 10, 11, 12, 13, 14, 15, 16, 17, 18, 19, 20]\n",
            "Separacion de Numeros pares [2, 4, 6, 8, 10, 12, 14, 16, 18, 20]\n",
            "Separacion de numeros impares [1, 3, 5, 7, 9, 11, 13, 15, 17, 19]\n"
          ]
        }
      ]
    },
    {
      "cell_type": "code",
      "source": [
        "#Ejercicio 6 Usando Funciones\n",
        "\n",
        "lista=[1,8,13,58,32,25,99,125,298,-15,-24]\n",
        "def separar(numero):\n",
        "  numero.sort()\n",
        "  numer_pares=[]\n",
        "  numer_impares=[]\n",
        "  for i in lista:\n",
        "    if i%2==0:\n",
        "      numer_pares.append(i)\n",
        "    else:\n",
        "      numer_impares.append(i)\n",
        "  return numer_pares,numer_impares\n",
        "\n",
        "print(f\"los numeros pares de la lista son: {numer_pares}\")\n",
        "print(f\"los numeros impares de la lista son: {numer_impares}\")\n"
      ],
      "metadata": {
        "colab": {
          "base_uri": "https://localhost:8080/"
        },
        "id": "kGek8mzyIi2J",
        "outputId": "c0b8751d-a52b-4ee9-d4b1-f97d26b94748"
      },
      "execution_count": null,
      "outputs": [
        {
          "output_type": "stream",
          "name": "stdout",
          "text": [
            "los numeros pares de la lista son: [-24, 8, 32, 58, 298]\n",
            "los numeros impares de la lista son: [-15, 1, 13, 25, 99, 125]\n"
          ]
        }
      ]
    },
    {
      "cell_type": "markdown",
      "source": [],
      "metadata": {
        "id": "n-lfKL21m_NA"
      }
    }
  ]
}