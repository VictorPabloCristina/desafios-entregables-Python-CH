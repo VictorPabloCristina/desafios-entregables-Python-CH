{
  "nbformat": 4,
  "nbformat_minor": 0,
  "metadata": {
    "colab": {
      "provenance": [],
      "authorship_tag": "ABX9TyPtP2NP6jR/7eRLEEq6D53v",
      "include_colab_link": true
    },
    "kernelspec": {
      "name": "python3",
      "display_name": "Python 3"
    },
    "language_info": {
      "name": "python"
    }
  },
  "cells": [
    {
      "cell_type": "markdown",
      "metadata": {
        "id": "view-in-github",
        "colab_type": "text"
      },
      "source": [
        "<a href=\"https://colab.research.google.com/github/VictorPabloCristina/desafios-entregables-Python-CH/blob/main/DesafioFutboll.ipynb\" target=\"_parent\"><img src=\"https://colab.research.google.com/assets/colab-badge.svg\" alt=\"Open In Colab\"/></a>"
      ]
    },
    {
      "cell_type": "code",
      "execution_count": null,
      "metadata": {
        "id": "1TOopk9hsUxI",
        "colab": {
          "base_uri": "https://localhost:8080/"
        },
        "outputId": "c7ba9378-b97a-424f-bc2b-222f1a8c8c03"
      },
      "outputs": [
        {
          "output_type": "stream",
          "name": "stdout",
          "text": [
            "Ingrese Nombre_de_Equipo\n",
            "River \n",
            "Ingrese Cantidad de partidos Jugados :\n",
            "10\n",
            "ingrese cantidad de partidos ganados\n",
            "9\n",
            "puntos de partidos ganados : 18.0\n",
            "ingrese cantidad de partidos empatados\n",
            "1\n",
            "puntos de partidos empatados : 1.0\n",
            "ingrese cantidad de partidos perdidos\n",
            "0\n",
            "puntos de partidos peridos : 0.0\n",
            "Puntaje final de Campeonato de : River  1.9\n"
          ]
        }
      ],
      "source": [
        "print(\"Ingrese Nombre_de_Equipo\")\n",
        "Nombre_de_Equipo=input()\n",
        "print(\"Ingrese Cantidad de partidos Jugados :\")\n",
        "partidos_jugados=float(input())\n",
        "print(\"ingrese cantidad de partidos ganados\")\n",
        "partidos_ganados =float(input())\n",
        "valordepartidoganado = 2\n",
        "print(\"puntos de partidos ganados :\", partidos_ganados * valordepartidoganado)\n",
        "print(\"ingrese cantidad de partidos empatados\")\n",
        "partidos_empatados =float(input())\n",
        "valordepartidoempatado = 1\n",
        "print(\"puntos de partidos empatados :\", partidos_empatados * valordepartidoempatado)\n",
        "print(\"ingrese cantidad de partidos perdidos\")\n",
        "partidos_perdidos =float(input())\n",
        "valordepartidoperdido = 0\n",
        "print(\"puntos de partidos peridos :\", partidos_perdidos * valordepartidoperdido)\n",
        "resultadofinal=float(partidos_perdidos*0 + partidos_empatados*1 + partidos_ganados*2) / partidos_jugados\n",
        "print(\"Puntaje final de Campeonato de :\", Nombre_de_Equipo,resultadofinal)"
      ]
    },
    {
      "cell_type": "code",
      "source": [],
      "metadata": {
        "id": "jb-ePOx5sYoY"
      },
      "execution_count": null,
      "outputs": []
    }
  ]
}