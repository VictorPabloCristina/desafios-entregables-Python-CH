{
  "nbformat": 4,
  "nbformat_minor": 0,
  "metadata": {
    "colab": {
      "provenance": [],
      "authorship_tag": "ABX9TyP0nUXLxf1GnB8KrcG8NcAO",
      "include_colab_link": true
    },
    "kernelspec": {
      "name": "python3",
      "display_name": "Python 3"
    },
    "language_info": {
      "name": "python"
    }
  },
  "cells": [
    {
      "cell_type": "markdown",
      "metadata": {
        "id": "view-in-github",
        "colab_type": "text"
      },
      "source": [
        "<a href=\"https://colab.research.google.com/github/VictorPabloCristina/desafios-entregables-Python-CH/blob/main/DesafioComplementarioClase2_CristinaVictorPablo.ipynb\" target=\"_parent\"><img src=\"https://colab.research.google.com/assets/colab-badge.svg\" alt=\"Open In Colab\"/></a>"
      ]
    },
    {
      "cell_type": "markdown",
      "source": [],
      "metadata": {
        "id": "ARk2VUHxjO_7"
      }
    },
    {
      "cell_type": "code",
      "source": [
        "nota_1 = 10\n",
        "nota_2 = 7\n",
        "nota_3 = 4\n",
        "nota_final=float((nota_1*0.15)+(nota_2*0.35)+(nota_3*0.5))\n",
        "print(\"Nota Final\",\":\",nota_final)\n",
        "\n",
        "matriz = [ \n",
        "    [1, 5, 1],\n",
        "    [2, 1, 2],\n",
        "    [3, 0, 1],\n",
        "    [1, 4, 4]\n",
        "]\n",
        "matriz[0].append(sum(matriz[0]))\n",
        "matriz[1].append(sum(matriz[1]))\n",
        "matriz[2].append(sum(matriz[2]))\n",
        "matriz[3].append(sum(matriz[3]))\n",
        "\n",
        "print(matriz)\n"
      ],
      "metadata": {
        "colab": {
          "base_uri": "https://localhost:8080/"
        },
        "id": "EhbTiZgxJGnb",
        "outputId": "380954f1-35e8-49ef-8198-19f171c5fd74"
      },
      "execution_count": null,
      "outputs": [
        {
          "output_type": "stream",
          "name": "stdout",
          "text": [
            "Nota Final : 5.949999999999999\n",
            "[[1, 5, 1, 7], [2, 1, 2, 5], [3, 0, 1, 4], [1, 4, 4, 9]]\n"
          ]
        }
      ]
    },
    {
      "cell_type": "code",
      "source": [],
      "metadata": {
        "id": "5rsQDT64jPsV"
      },
      "execution_count": null,
      "outputs": []
    }
  ]
}