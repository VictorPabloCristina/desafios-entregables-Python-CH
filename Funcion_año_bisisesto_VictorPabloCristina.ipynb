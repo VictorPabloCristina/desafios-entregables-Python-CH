{
  "nbformat": 4,
  "nbformat_minor": 0,
  "metadata": {
    "colab": {
      "provenance": [],
      "authorship_tag": "ABX9TyPXBaRdU1+ZWgykV7m2osZa",
      "include_colab_link": true
    },
    "kernelspec": {
      "name": "python3",
      "display_name": "Python 3"
    },
    "language_info": {
      "name": "python"
    }
  },
  "cells": [
    {
      "cell_type": "markdown",
      "metadata": {
        "id": "view-in-github",
        "colab_type": "text"
      },
      "source": [
        "<a href=\"https://colab.research.google.com/github/VictorPabloCristina/desafios-entregables-Python-CH/blob/main/Funcion_a%C3%B1o_bisisesto_VictorPabloCristina.ipynb\" target=\"_parent\"><img src=\"https://colab.research.google.com/assets/colab-badge.svg\" alt=\"Open In Colab\"/></a>"
      ]
    },
    {
      "cell_type": "code",
      "execution_count": null,
      "metadata": {
        "id": "56CRZyKTFVXB",
        "colab": {
          "base_uri": "https://localhost:8080/"
        },
        "outputId": "f2d85bc9-8746-47f3-d35a-6f4f1ad1e6cf"
      },
      "outputs": [
        {
          "output_type": "stream",
          "name": "stdout",
          "text": [
            "El Parametro ingresado debe ser un numero\n",
            "El año 1983 no bisiesto\n",
            "El año 1900 no bisiesto\n",
            "El año 2000 es bisiesto\n",
            "El año 2010 no bisiesto\n",
            "El año 2012 es bisiesto\n"
          ]
        }
      ],
      "source": [
        "#Funcion año Bisiesto\n",
        "def agno_bisiesto (agno): #Definimos Variable\n",
        "    if (type(agno) != int): #Nos aseguramos que el parametro sea un numero\n",
        "         print(\"El Parametro ingresado debe ser un numero\")\n",
        "    else:\n",
        "        if agno % 4 == 0 and (agno % 100 != 0 or agno % 400 == 0): #Condicional para resolver Bisiesto\n",
        "            print(f\"El año {agno} es bisiesto\")\n",
        "            \n",
        "        else:\n",
        "            print(f\"El año {agno} no bisiesto\")\n",
        "\n",
        "#Parametros\n",
        "agno_bisiesto(\"Pablo\")\n",
        "agno_bisiesto(1983)\n",
        "agno_bisiesto(1900)\n",
        "agno_bisiesto(2000)\n",
        "agno_bisiesto(2010)\n",
        "agno_bisiesto(2012)\n"
      ]
    },
    {
      "cell_type": "code",
      "source": [],
      "metadata": {
        "id": "cjhnXSDgOwNX"
      },
      "execution_count": null,
      "outputs": []
    }
  ]
}