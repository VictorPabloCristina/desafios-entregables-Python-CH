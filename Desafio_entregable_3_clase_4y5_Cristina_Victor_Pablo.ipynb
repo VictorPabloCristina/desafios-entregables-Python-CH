{
  "nbformat": 4,
  "nbformat_minor": 0,
  "metadata": {
    "colab": {
      "provenance": [],
      "authorship_tag": "ABX9TyOblUWGOVQZaDCWY/6dQ6sb",
      "include_colab_link": true
    },
    "kernelspec": {
      "name": "python3",
      "display_name": "Python 3"
    },
    "language_info": {
      "name": "python"
    }
  },
  "cells": [
    {
      "cell_type": "markdown",
      "metadata": {
        "id": "view-in-github",
        "colab_type": "text"
      },
      "source": [
        "<a href=\"https://colab.research.google.com/github/VictorPabloCristina/desafios-entregables-Python-CH/blob/main/Desafio_entregable_3_clase_4y5_Cristina_Victor_Pablo.ipynb\" target=\"_parent\"><img src=\"https://colab.research.google.com/assets/colab-badge.svg\" alt=\"Open In Colab\"/></a>"
      ]
    },
    {
      "cell_type": "code",
      "execution_count": null,
      "metadata": {
        "id": "lhRrwLhtMl1V",
        "colab": {
          "base_uri": "https://localhost:8080/",
          "height": 130
        },
        "outputId": "3bda79cf-f961-4534-9c12-ee4d1c8e47a1"
      },
      "outputs": [
        {
          "output_type": "error",
          "ename": "SyntaxError",
          "evalue": "ignored",
          "traceback": [
            "\u001b[0;36m  File \u001b[0;32m\"<ipython-input-1-60e2909dbe78>\"\u001b[0;36m, line \u001b[0;32m59\u001b[0m\n\u001b[0;31m    print(\"Los numeros elejidos son:\", (lista))**\u001b[0m\n\u001b[0m                                                 ^\u001b[0m\n\u001b[0;31mSyntaxError\u001b[0m\u001b[0;31m:\u001b[0m invalid syntax\n"
          ]
        }
      ],
      "source": [
        "#Ejercicio 1*************************************************************\n",
        "numero_1=int(input(\"Elija un Numero :\"))\n",
        "numero_2=int(input(\"Elija un segundo Numero :\"))\n",
        "opcion=0\n",
        "\n",
        "while True:\n",
        "  print(\"\\nElija una opcion del siguiente Menu:\")\n",
        "  print(\"1-Sumaro los numeros ingresados\")\n",
        "  print(\"2-Restar los numeros ingresados\")  \n",
        "  print(\"3-Multiplicar los numeros ingresados\")\n",
        "  print(\"4-Salir del Menu\")\n",
        "  opcion=input(\"Elija una opcion del 1 al 4:\")\n",
        "  \n",
        "  if opcion=='1':\n",
        "    print(\"La suma es:\", numero_1+numero_2)\n",
        "  elif opcion=='2':\n",
        "    print(\"La resta es: \", numero_1-numero_2)\n",
        "  elif opcion== '3':\n",
        "    print(\"La Multiplicacion es:\",numero_1*numero_2)    \n",
        "  elif opcion=='4':\n",
        "    print(\"Salir\")\n",
        "    break\n",
        "  else:\n",
        "    print(\"Opcion invalida, vuelva a ingresar una opcion del Menu\")\n",
        "\n",
        "\n",
        "\n",
        "#Ejercicio 2**********************************************************\n",
        "Numero_Impar=int(input(\"Ingrese un Numero Impar: \"))\n",
        "while True:\n",
        "  if Numero_Impar %2 == 0:\n",
        "    print(\"El numero es Par, Ingrese otro numero\")\n",
        "    Numero_Impar=int(input(\"Ingrese un Numero Impar: \"))\n",
        "  else:\n",
        "    print(\"El numero ingresado esta Correcto\")\n",
        "    break   \n",
        "\n",
        "\n",
        "  \n",
        "#Ejercicio 3*********************************************************\n",
        "print(\"Lista de numeros impares del 0 al 100:\")\n",
        "print(list(range(1,100,2)))\n",
        "print(\"Suma de la Lista de numeros impares: \")\n",
        "print(sum(list(range(1,100,2))))\n",
        "\n",
        "\n",
        "#Ejercicio 4*******************************************************\n",
        "cantnum=float(input(\"Que cantidad de numeros quiere ingresar?:\")) #cantnum=cantidad de numeros que debe ingresar**\n",
        "lista=[]\n",
        "\n",
        "while True:\n",
        "  valor=float(input(\"Ingrese un numero:\"))\n",
        "  lista.append(valor)\n",
        "  if len(lista)>=cantnum:\n",
        "    break\n",
        "promedio=sum(lista)/ cantnum \n",
        "print(\"La cantidad de numeros ingresados es:\",len(lista))\n",
        "print(\"El promedio de los numeros ingresados es:\",(promedio))\n",
        "print(\"Los numeros elejidos son:\", (lista))**\n",
        "print(sum(lista))**\n",
        "\n",
        "\n",
        "#Ejercicio 5*****************************************************\n",
        "numeros=[1, 3, 6, 9]\n",
        "numero_usuario=int(input(\"Ingrese un numero del 1 al 9:\"))\n",
        "while (numero_usuario>0 or numero_usuario<9):\n",
        "  if (numero_usuario<0 or numero_usuario>9):\n",
        "   numero_usuario=int(input(\"El numero ingresado es Inbalido\\n ingrese otro numero del 1 al 9:\"))\n",
        "  elif numero_usuario in numeros:\n",
        "    print(\"Acerto!!! \\nEl numero SI se encuentra dentro de la lista secreta\")\n",
        "    break\n",
        "  else:\n",
        "    numero_usuario=int(input(\"El numero NO se encuentra dentro de la lista\\n ingrese otro numero del 1 al 9:\"))\n",
        "\n",
        "\n",
        "#Ejercicio 6********************************************************\n",
        "\n",
        "milista_1 = list(range(11))\n",
        "print(\"Numeros enteros de mi lista\\n\",(milista_1))\n",
        "milista_2 = list(range(-10,1))\n",
        "print(\"Numeros del -10 al 0\\n\",(milista_2))\n",
        "milista_3 = list(range(0,21,2))\n",
        "print(\"Numeros pares del 0 al 20\\n\",(milista_3))\n",
        "milista_4 = list(range(-19,1,2))\n",
        "print(\"Numeros impares del -20 al 0\\n\",(milista_4))\n",
        "milista_5 = list(range(0,51))\n",
        "print(\"Numeros multiplos de 5 del 0 al 50\")\n",
        "for i in milista_5:\n",
        "  if i %5==0:\n",
        "    print(i)\n",
        "\n",
        "\n",
        "#Ejercicio 7**********************************************************\n",
        "\n",
        "lista_1 = [\"h\",'o','l','a',' ', 'm','u','n','d','o']\n",
        "lista_2 = [\"h\",'o','l','a',' ', 'l','u','n','a']\n",
        "lista_3 = []\n",
        "\n",
        "for repetido in lista_1:\n",
        "  if lista_2.count(repetido) and lista_3.count(repetido)==0:\n",
        "    lista_3.append(repetido)\n",
        "\n",
        "print(lista_3)\n",
        "\n",
        "  \n"
      ]
    }
  ]
}